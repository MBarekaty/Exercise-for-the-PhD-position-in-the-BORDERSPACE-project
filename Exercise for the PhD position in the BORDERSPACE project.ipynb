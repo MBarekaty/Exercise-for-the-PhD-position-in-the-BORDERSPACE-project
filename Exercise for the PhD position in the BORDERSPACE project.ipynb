{
 "cells": [
  {
   "cell_type": "markdown",
   "metadata": {},
   "source": [
    "### Steps for finding the home/work location "
   ]
  },
  {
   "cell_type": "code",
   "execution_count": null,
   "metadata": {},
   "outputs": [],
   "source": [
    "#Importing libraries\n",
    "import pandas as pd\n",
    "import numpy as np\n",
    "import geopandas as gpd\n",
    "from shapely.geometry import Point, LineString, Polygon"
   ]
  },
  {
   "cell_type": "code",
   "execution_count": 20,
   "metadata": {},
   "outputs": [],
   "source": [
    "import os\n",
    "os.getcwd()\n",
    "os.chdir(r'C:\\Users\\Kasutaja\\Desktop\\PhD_task_helsinki_University\\test')"
   ]
  },
  {
   "cell_type": "code",
   "execution_count": 21,
   "metadata": {},
   "outputs": [],
   "source": [
    "# Reading from a sample data\n",
    "df = pd.read_csv('cdr2.csv')"
   ]
  },
  {
   "cell_type": "code",
   "execution_count": 22,
   "metadata": {},
   "outputs": [],
   "source": [
    "# Splitting time column into two columns - month and hour\n",
    "df['time'] = pd.to_datetime(df['time'])\n",
    "df['month'] = df['time'].dt.month\n",
    "df['hour'] = df['time'].dt.hour"
   ]
  },
  {
   "cell_type": "code",
   "execution_count": 24,
   "metadata": {},
   "outputs": [
    {
     "data": {
      "text/html": [
       "<div>\n",
       "<style scoped>\n",
       "    .dataframe tbody tr th:only-of-type {\n",
       "        vertical-align: middle;\n",
       "    }\n",
       "\n",
       "    .dataframe tbody tr th {\n",
       "        vertical-align: top;\n",
       "    }\n",
       "\n",
       "    .dataframe thead th {\n",
       "        text-align: right;\n",
       "    }\n",
       "</style>\n",
       "<table border=\"1\" class=\"dataframe\">\n",
       "  <thead>\n",
       "    <tr style=\"text-align: right;\">\n",
       "      <th></th>\n",
       "      <th>time</th>\n",
       "      <th>pos_usr_id</th>\n",
       "      <th>X</th>\n",
       "      <th>Y</th>\n",
       "      <th>month</th>\n",
       "      <th>hour</th>\n",
       "    </tr>\n",
       "  </thead>\n",
       "  <tbody>\n",
       "    <tr>\n",
       "      <th>0</th>\n",
       "      <td>2008-04-01 08:40:45</td>\n",
       "      <td>John</td>\n",
       "      <td>25.422217</td>\n",
       "      <td>59.455275</td>\n",
       "      <td>4</td>\n",
       "      <td>8</td>\n",
       "    </tr>\n",
       "    <tr>\n",
       "      <th>1</th>\n",
       "      <td>2008-04-01 08:56:34</td>\n",
       "      <td>John</td>\n",
       "      <td>25.355000</td>\n",
       "      <td>59.476381</td>\n",
       "      <td>4</td>\n",
       "      <td>8</td>\n",
       "    </tr>\n",
       "    <tr>\n",
       "      <th>2</th>\n",
       "      <td>2008-04-01 09:08:27</td>\n",
       "      <td>John</td>\n",
       "      <td>25.422217</td>\n",
       "      <td>59.455275</td>\n",
       "      <td>4</td>\n",
       "      <td>9</td>\n",
       "    </tr>\n",
       "  </tbody>\n",
       "</table>\n",
       "</div>"
      ],
      "text/plain": [
       "                 time pos_usr_id          X          Y  month  hour\n",
       "0 2008-04-01 08:40:45       John  25.422217  59.455275      4     8\n",
       "1 2008-04-01 08:56:34       John  25.355000  59.476381      4     8\n",
       "2 2008-04-01 09:08:27       John  25.422217  59.455275      4     9"
      ]
     },
     "execution_count": 24,
     "metadata": {},
     "output_type": "execute_result"
    }
   ],
   "source": [
    "## Visualizing sample data \n",
    "df.head()"
   ]
  },
  {
   "cell_type": "markdown",
   "metadata": {},
   "source": [
    "### Finding Home/work location\n",
    "<blockquote> Finding the  home / work location based on different temporal variations :\n",
    "             Group data (Twitter User IDs) based on the desired temporal variation in this case is daily.</blockquote>"
   ]
  },
  {
   "cell_type": "markdown",
   "metadata": {},
   "source": [
    "### Tracking cross-border country movement \n",
    "<blockquote> Finding the most frequent tweets based on the holidays (summer/winter), to assign them as \n",
    "tourist and aggreate the data with landmarks of the specific country.\n",
    "we can select (June - August ), (december-January)  for summer and winter holidays respectively. \n",
    "for instance : Summer holiday = selected months from the df_summer = df[df['month'] == 6].</blockquote>\n",
    "\n"
   ]
  },
  {
   "cell_type": "code",
   "execution_count": 13,
   "metadata": {},
   "outputs": [],
   "source": [
    "def site_location(data):\n",
    "    data['site'] = str(round(data['X'], 3)) +' '+ str(round(data['Y'], 3))\n",
    "    return data\n",
    "    \n",
    "def day_night_time(dataset, period):\n",
    "    if period == 'daytime':\n",
    "        data[period] = data['hour'].apply(lambda x: 1 if (x >= 9 and x <= 18) else 0)\n",
    "    elif period == 'nighttime':\n",
    "        data[period] = data['hour'].apply(lambda x: 1 if (x >= 20 and x <= 7) else 0)\n",
    "    df1 = data[data[period] == 1] \n",
    "    df2 = df1.groupby(['pos_usr_id', 'site'])[period].sum().reset_index().sort_values(period, ascending = False)\n",
    "    users = df2['pos_usr_id'].unique()\n",
    "    user_site = {}\n",
    "    for i in users:\n",
    "        subset_data = df2[df2['pos_usr_id'] == i].head(1)\n",
    "        user_site[i] = subset_data['site'].values\n",
    "    return pd.DataFrame.from_dict(user_site, orient='index').reset_index().rename(columns = {'index':'user', 0:'site'})\n",
    "\n",
    "# By changing the ('NAME_1') to another ('NAME_0') the destination location based on the county, city level will be reveal.\n",
    "\n",
    "def country_name(data, country_data):\n",
    "    data['X_Y_coord'] = data[['X', 'Y']].apply(Point, axis = 1)\n",
    "    data['country'] = ''\n",
    "    n_country = country_data.shape[0]\n",
    "    n_data = data.shape[0]\n",
    "    for i in range(n_country):\n",
    "        for j in range(n_data):\n",
    "            if country_data['geometry'][i].contains(data['X_Y_coord'][j]):\n",
    "                data['country'][j] = country_data['NAME_1'][i]\n",
    "    return data"
   ]
  },
  {
   "cell_type": "code",
   "execution_count": 15,
   "metadata": {},
   "outputs": [
    {
     "data": {
      "text/html": [
       "<div>\n",
       "<style scoped>\n",
       "    .dataframe tbody tr th:only-of-type {\n",
       "        vertical-align: middle;\n",
       "    }\n",
       "\n",
       "    .dataframe tbody tr th {\n",
       "        vertical-align: top;\n",
       "    }\n",
       "\n",
       "    .dataframe thead th {\n",
       "        text-align: right;\n",
       "    }\n",
       "</style>\n",
       "<table border=\"1\" class=\"dataframe\">\n",
       "  <thead>\n",
       "    <tr style=\"text-align: right;\">\n",
       "      <th></th>\n",
       "      <th>time</th>\n",
       "      <th>pos_usr_id</th>\n",
       "      <th>X</th>\n",
       "      <th>Y</th>\n",
       "      <th>month</th>\n",
       "      <th>hour</th>\n",
       "      <th>site</th>\n",
       "    </tr>\n",
       "  </thead>\n",
       "  <tbody>\n",
       "    <tr>\n",
       "      <th>0</th>\n",
       "      <td>2008-04-01 08:40:45</td>\n",
       "      <td>John</td>\n",
       "      <td>25.422217</td>\n",
       "      <td>59.455275</td>\n",
       "      <td>4</td>\n",
       "      <td>8</td>\n",
       "      <td>25.422 59.455</td>\n",
       "    </tr>\n",
       "    <tr>\n",
       "      <th>1</th>\n",
       "      <td>2008-04-01 08:56:34</td>\n",
       "      <td>John</td>\n",
       "      <td>25.355000</td>\n",
       "      <td>59.476381</td>\n",
       "      <td>4</td>\n",
       "      <td>8</td>\n",
       "      <td>25.355 59.476</td>\n",
       "    </tr>\n",
       "    <tr>\n",
       "      <th>2</th>\n",
       "      <td>2008-04-01 09:08:27</td>\n",
       "      <td>John</td>\n",
       "      <td>25.422217</td>\n",
       "      <td>59.455275</td>\n",
       "      <td>4</td>\n",
       "      <td>9</td>\n",
       "      <td>25.422 59.455</td>\n",
       "    </tr>\n",
       "  </tbody>\n",
       "</table>\n",
       "</div>"
      ],
      "text/plain": [
       "                 time pos_usr_id          X          Y  month  hour  \\\n",
       "0 2008-04-01 08:40:45       John  25.422217  59.455275      4     8   \n",
       "1 2008-04-01 08:56:34       John  25.355000  59.476381      4     8   \n",
       "2 2008-04-01 09:08:27       John  25.422217  59.455275      4     9   \n",
       "\n",
       "            site  \n",
       "0  25.422 59.455  \n",
       "1  25.355 59.476  \n",
       "2  25.422 59.455  "
      ]
     },
     "execution_count": 15,
     "metadata": {},
     "output_type": "execute_result"
    }
   ],
   "source": [
    "data = df.apply(site_location, axis = 1)\n",
    "data.head()"
   ]
  },
  {
   "cell_type": "code",
   "execution_count": 16,
   "metadata": {},
   "outputs": [
    {
     "data": {
      "text/html": [
       "<div>\n",
       "<style scoped>\n",
       "    .dataframe tbody tr th:only-of-type {\n",
       "        vertical-align: middle;\n",
       "    }\n",
       "\n",
       "    .dataframe tbody tr th {\n",
       "        vertical-align: top;\n",
       "    }\n",
       "\n",
       "    .dataframe thead th {\n",
       "        text-align: right;\n",
       "    }\n",
       "</style>\n",
       "<table border=\"1\" class=\"dataframe\">\n",
       "  <thead>\n",
       "    <tr style=\"text-align: right;\">\n",
       "      <th></th>\n",
       "      <th>user</th>\n",
       "      <th>site</th>\n",
       "    </tr>\n",
       "  </thead>\n",
       "  <tbody>\n",
       "    <tr>\n",
       "      <th>0</th>\n",
       "      <td>John</td>\n",
       "      <td>25.422 59.455</td>\n",
       "    </tr>\n",
       "  </tbody>\n",
       "</table>\n",
       "</div>"
      ],
      "text/plain": [
       "   user           site\n",
       "0  John  25.422 59.455"
      ]
     },
     "execution_count": 16,
     "metadata": {},
     "output_type": "execute_result"
    }
   ],
   "source": [
    "# DAY_TIME : Work location \n",
    "day_night_time(data, 'daytime')"
   ]
  },
  {
   "cell_type": "markdown",
   "metadata": {},
   "source": [
    "<blockquote> In this section the Home/work location in a municipality can be achieved by adding an extra column to the dataset </blockquote>"
   ]
  },
  {
   "cell_type": "markdown",
   "metadata": {},
   "source": [
    "<blockquote> Task 2 : for finding the destination country and count the number of tweets grouped by country inorder to find out how long they have spend time there we can use the same function as TASK 1 but instead of work location we can track the movement from home to the destination countries.</blockquote>"
   ]
  },
  {
   "cell_type": "code",
   "execution_count": 17,
   "metadata": {},
   "outputs": [],
   "source": [
    "country_data = gpd.read_file('gadm36_EST_1.shp')"
   ]
  },
  {
   "cell_type": "code",
   "execution_count": 18,
   "metadata": {},
   "outputs": [
    {
     "name": "stderr",
     "output_type": "stream",
     "text": [
      "<ipython-input-13-1b631efcab70>:27: SettingWithCopyWarning: \n",
      "A value is trying to be set on a copy of a slice from a DataFrame\n",
      "\n",
      "See the caveats in the documentation: https://pandas.pydata.org/pandas-docs/stable/user_guide/indexing.html#returning-a-view-versus-a-copy\n",
      "  data['country'][j] = country_data['NAME_1'][i]\n"
     ]
    },
    {
     "data": {
      "text/html": [
       "<div>\n",
       "<style scoped>\n",
       "    .dataframe tbody tr th:only-of-type {\n",
       "        vertical-align: middle;\n",
       "    }\n",
       "\n",
       "    .dataframe tbody tr th {\n",
       "        vertical-align: top;\n",
       "    }\n",
       "\n",
       "    .dataframe thead th {\n",
       "        text-align: right;\n",
       "    }\n",
       "</style>\n",
       "<table border=\"1\" class=\"dataframe\">\n",
       "  <thead>\n",
       "    <tr style=\"text-align: right;\">\n",
       "      <th></th>\n",
       "      <th>time</th>\n",
       "      <th>pos_usr_id</th>\n",
       "      <th>X</th>\n",
       "      <th>Y</th>\n",
       "      <th>month</th>\n",
       "      <th>hour</th>\n",
       "      <th>site</th>\n",
       "      <th>daytime</th>\n",
       "      <th>X_Y_coord</th>\n",
       "      <th>country</th>\n",
       "    </tr>\n",
       "  </thead>\n",
       "  <tbody>\n",
       "    <tr>\n",
       "      <th>0</th>\n",
       "      <td>2008-04-01 08:40:45</td>\n",
       "      <td>John</td>\n",
       "      <td>25.422217</td>\n",
       "      <td>59.455275</td>\n",
       "      <td>4</td>\n",
       "      <td>8</td>\n",
       "      <td>25.422 59.455</td>\n",
       "      <td>0</td>\n",
       "      <td>POINT (25.4222166 59.455275)</td>\n",
       "      <td>Harju</td>\n",
       "    </tr>\n",
       "    <tr>\n",
       "      <th>1</th>\n",
       "      <td>2008-04-01 08:56:34</td>\n",
       "      <td>John</td>\n",
       "      <td>25.355000</td>\n",
       "      <td>59.476381</td>\n",
       "      <td>4</td>\n",
       "      <td>8</td>\n",
       "      <td>25.355 59.476</td>\n",
       "      <td>0</td>\n",
       "      <td>POINT (25.355 59.4763805)</td>\n",
       "      <td>Harju</td>\n",
       "    </tr>\n",
       "    <tr>\n",
       "      <th>2</th>\n",
       "      <td>2008-04-01 09:08:27</td>\n",
       "      <td>John</td>\n",
       "      <td>25.422217</td>\n",
       "      <td>59.455275</td>\n",
       "      <td>4</td>\n",
       "      <td>9</td>\n",
       "      <td>25.422 59.455</td>\n",
       "      <td>1</td>\n",
       "      <td>POINT (25.4222166 59.455275)</td>\n",
       "      <td>Harju</td>\n",
       "    </tr>\n",
       "  </tbody>\n",
       "</table>\n",
       "</div>"
      ],
      "text/plain": [
       "                 time pos_usr_id          X          Y  month  hour  \\\n",
       "0 2008-04-01 08:40:45       John  25.422217  59.455275      4     8   \n",
       "1 2008-04-01 08:56:34       John  25.355000  59.476381      4     8   \n",
       "2 2008-04-01 09:08:27       John  25.422217  59.455275      4     9   \n",
       "\n",
       "            site  daytime                     X_Y_coord country  \n",
       "0  25.422 59.455        0  POINT (25.4222166 59.455275)   Harju  \n",
       "1  25.355 59.476        0     POINT (25.355 59.4763805)   Harju  \n",
       "2  25.422 59.455        1  POINT (25.4222166 59.455275)   Harju  "
      ]
     },
     "execution_count": 18,
     "metadata": {},
     "output_type": "execute_result"
    }
   ],
   "source": [
    "country_name(data, country_data)"
   ]
  },
  {
   "cell_type": "code",
   "execution_count": null,
   "metadata": {},
   "outputs": [],
   "source": []
  }
 ],
 "metadata": {
  "kernelspec": {
   "display_name": "Python 3",
   "language": "python",
   "name": "python3"
  },
  "language_info": {
   "codemirror_mode": {
    "name": "ipython",
    "version": 3
   },
   "file_extension": ".py",
   "mimetype": "text/x-python",
   "name": "python",
   "nbconvert_exporter": "python",
   "pygments_lexer": "ipython3",
   "version": "3.8.3"
  }
 },
 "nbformat": 4,
 "nbformat_minor": 4
}
